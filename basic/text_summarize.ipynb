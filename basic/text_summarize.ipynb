{
 "cells": [
  {
   "cell_type": "markdown",
   "id": "b862abe8",
   "metadata": {},
   "source": [
    "- Tách documment thành câu (sent_tokenize)\n",
    "- Tạo ma trận TF-IDF cho từng câu\n",
    "- Với mỗi câu tính average TF-IDF per token => coi là độ quan trọng của câu\n",
    "- Lấy những câu có socre thấp hơn threshold (ở đây threshold = trung bình các score) → ghép lại thành summary."
   ]
  },
  {
   "cell_type": "code",
   "execution_count": null,
   "id": "6ec9af93",
   "metadata": {},
   "outputs": [
    {
     "name": "stderr",
     "output_type": "stream",
     "text": [
      "[nltk_data] Downloading package punkt to /Users/huong/nltk_data...\n",
      "[nltk_data]   Package punkt is already up-to-date!\n",
      "[nltk_data] Downloading package punkt_tab to /Users/huong/nltk_data...\n",
      "[nltk_data]   Unzipping tokenizers/punkt_tab.zip.\n"
     ]
    }
   ],
   "source": [
    "import nltk\n",
    "from nltk.tokenize import sent_tokenize \n",
    "nltk.download('punkt') #Tải modeule tokenizer chia câu (bắt buộc để sent_tokenizer hoạt động)\n",
    "nltk.download(\"punkt_tab\") #Tải module tokenizer chia câu với tab (version mới)\n",
    "from sklearn.feature_extraction.text import TfidfVectorizer #dùng để tạo ma trận TF-IDF (term frequency–inverse document frequency).\n",
    "import numpy as np"
   ]
  },
  {
   "cell_type": "code",
   "execution_count": null,
   "id": "e53a3afe",
   "metadata": {},
   "outputs": [],
   "source": [
    "sentence = \"\"\"\n",
    "Manchester City makes history by winning Club World Cup.\n",
    "Manchester City capped off its incredible year with yet another trophy, dismantling Fluminense 4-0 to win the Club World Cup on Friday.\n",
    "Having already won the Premier League, Champions League, FA Cup and Super Cup, Pep Guardiola’s side now boasts five trophies this calendar year, becoming the first English club to ever hold all those titles simultaneously.\n",
    "The final piece of the jigsaw came on a highly charged night in Saudi Arabia as Manchester City outclassed its Brazilian opponents.\n",
    "“We’ve shown over the past 12 months we are the best team in the world. Our results prove that and the consistency we have managed has been amazing,” club captain Kyle Walker said after the game, per Sky Sports.\n",
    "“To win these five trophies – for me, the five biggest prizes available to us – is incredible. I am so proud to have been a part of this and I can honestly say it’s an honour to play alongside these players. I couldn’t ask for better teammates.”\n",
    "It took just 40 seconds for Manchester City to take the lead\n",
    "Brazilian left-back Marcelo miscued a pass in the opening exchanges which let Nathan Aké free to shoot from distance. The defender’s effort cannoned back off the post but forward Julián Álvarez was in the right place to turn the rebound into the net with his chest.\n",
    "City continued to look dangerous and doubled its lead before the break after Phil Foden’s attempted cross was deflected into his own net by Fluminense defender Nino.\n",
    "Foden then got on the scoresheet himself in the 72nd minute after a prodding home from close range.\n",
    "The rout was completed in the 88th minute when Álvarez capped off a brilliant performance with a clinical finish into the far corner.\n",
    "City’s defence was largely untested for during the game, underlining the team’s dominance during this unforgettable year.\n",
    "“As a manager it is what I am most proud of; that we are always there. No matter how much we win, no matter what trophies we lift, we are there again to fight for the next one,” City boss Guardiola said after the match, according to Sky Sports.\n",
    "“To win the Treble was truly special, but to win two more trophies and now hold these five major titles shows the unique mentality of this team, of the Club and its fans.\n",
    "“It is something no other English team has ever achieved, and we will always remember this incredible time we spent together.”\n",
    "The game ended in some unsavoury scenes as a scuffle broke out between players on the pitch after the final whistle, but the game will be remembered as yet another successful night for City.\n",
    "The champion heads back to England where it faces a tough title defence in the Premier League.\n",
    "It currently sits fourth in the table and will face Everton in its next fixture on Wednesday.\n",
    "\"\"\""
   ]
  },
  {
   "cell_type": "code",
   "execution_count": 23,
   "id": "34741dee",
   "metadata": {},
   "outputs": [
    {
     "name": "stdout",
     "output_type": "stream",
     "text": [
      "['\\nManchester City makes history by winning Club World Cup\\nManchester City capped off its incredible year with yet another trophy, dismantling Fluminense 4-0 to win the Club World Cup on Friday.', 'Having already won the Premier League, Champions League, FA Cup and Super Cup, Pep Guardiola’s side now boasts five trophies this calendar year, becoming the first English club to ever hold all those titles simultaneously.', 'The final piece of the jigsaw came on a highly charged night in Saudi Arabia as Manchester City outclassed its Brazilian opponents.', '“We’ve shown over the past 12 months we are the best team in the world.', 'Our results prove that and the consistency we have managed has been amazing,” club captain Kyle Walker said after the game, per Sky Sports.', '“To win these five trophies – for me, the five biggest prizes available to us – is incredible.', 'I am so proud to have been a part of this and I can honestly say it’s an honour to play alongside these players.', 'I couldn’t ask for better teammates.”\\nIt took just 40 seconds for Manchester City to take the lead\\nBrazilian left-back Marcelo miscued a pass in the opening exchanges which let Nathan Aké free to shoot from distance.', 'The defender’s effort cannoned back off the post but forward Julián Álvarez was in the right place to turn the rebound into the net with his chest.', 'City continued to look dangerous and doubled its lead before the break after Phil Foden’s attempted cross was deflected into his own net by Fluminense defender Nino.', 'Foden then got on the scoresheet himself in the 72nd minute after a prodding home from close range.', 'The rout was completed in the 88th minute when Álvarez capped off a brilliant performance with a clinical finish into the far corner.', 'City’s defence was largely untested for during the game, underlining the team’s dominance during this unforgettable year.', '“As a manager it is what I am most proud of; that we are always there.', 'No matter how much we win, no matter what trophies we lift, we are there again to fight for the next one,” City boss Guardiola said after the match, according to Sky Sports.', '“To win the Treble was truly special, but to win two more trophies and now hold these five major titles shows the unique mentality of this team, of the Club and its fans.', '“It is something no other English team has ever achieved, and we will always remember this incredible time we spent together.”\\nThe game ended in some unsavoury scenes as a scuffle broke out between players on the pitch after the final whistle, but the game will be remembered as yet another successful night for City.', 'The champion heads back to England where it faces a tough title defence in the Premier League.', 'It currently sits fourth in the table and will face Everton in its next fixture on Wednesday.']\n"
     ]
    }
   ],
   "source": [
    "sent_token = sent_tokenize(sentence)\n",
    "print(sent_token)"
   ]
  },
  {
   "cell_type": "code",
   "execution_count": null,
   "id": "ce6cf38e",
   "metadata": {},
   "outputs": [],
   "source": [
    "vectorizer = TfidfVectorizer(stop_words='english') # khởi tạo đối tượng vectorizer\n",
    "features = vectorizer.fit_transform(sent_token) # tạo ma trận TF-IDF cho từng câu\n",
    "\n",
    "#TF (term frequency): tần suất xuất hiện của từ trong tài liệu (ở đây “câu” được coi là document).\n",
    "# IDF (inverse doc frequency): từ phổ biến trên toàn tập ít đóng góp (giảm trọng số từ thông dụng).\n",
    "# TF-IDF = TF * IDF → đánh trọng số cho từ “đặc trưng” cho câu.\n",
    "# TfidfVectorizer kết hợp quy trình tiền xử lý (lowercase, tokenization cơ bản), gán trọng số, và (mặc định) chuẩn hóa L2 trên mỗi document."
   ]
  },
  {
   "cell_type": "code",
   "execution_count": 26,
   "id": "c7c5bace",
   "metadata": {},
   "outputs": [
    {
     "name": "stdout",
     "output_type": "stream",
     "text": [
      "- Sentence 1\n",
      "Sum of sentence TF-IDF scores: 3.837592029309685\n",
      "Length of sentence (number of words): 16\n",
      "Average TF-IDF score: 0.2398495018318553\n",
      "--------------------------------\n",
      "- Sentence 2\n",
      "Sum of sentence TF-IDF scores: 4.207523545672579\n",
      "Length of sentence (number of words): 19\n",
      "Average TF-IDF score: 0.22144860766697785\n",
      "--------------------------------\n",
      "- Sentence 3\n",
      "Sum of sentence TF-IDF scores: 3.71190813990483\n",
      "Length of sentence (number of words): 14\n",
      "Average TF-IDF score: 0.26513629570748787\n",
      "--------------------------------\n",
      "- Sentence 4\n",
      "Sum of sentence TF-IDF scores: 2.814422632688371\n",
      "Length of sentence (number of words): 8\n",
      "Average TF-IDF score: 0.3518028290860464\n",
      "--------------------------------\n",
      "- Sentence 5\n",
      "Sum of sentence TF-IDF scores: 3.5882091721370895\n",
      "Length of sentence (number of words): 13\n",
      "Average TF-IDF score: 0.2760160901643915\n",
      "--------------------------------\n",
      "- Sentence 6\n",
      "Sum of sentence TF-IDF scores: 2.4229745136740135\n",
      "Length of sentence (number of words): 6\n",
      "Average TF-IDF score: 0.4038290856123356\n",
      "--------------------------------\n",
      "- Sentence 7\n",
      "Sum of sentence TF-IDF scores: 2.6413915496702427\n",
      "Length of sentence (number of words): 7\n",
      "Average TF-IDF score: 0.3773416499528918\n",
      "--------------------------------\n",
      "- Sentence 8\n",
      "Sum of sentence TF-IDF scores: 4.875136410964596\n",
      "Length of sentence (number of words): 24\n",
      "Average TF-IDF score: 0.2031306837901915\n",
      "--------------------------------\n",
      "- Sentence 9\n",
      "Sum of sentence TF-IDF scores: 3.600453068183358\n",
      "Length of sentence (number of words): 13\n",
      "Average TF-IDF score: 0.2769579283217968\n",
      "--------------------------------\n",
      "- Sentence 10\n",
      "Sum of sentence TF-IDF scores: 3.9738589940548517\n",
      "Length of sentence (number of words): 16\n",
      "Average TF-IDF score: 0.24836618712842823\n",
      "--------------------------------\n",
      "- Sentence 11\n",
      "Sum of sentence TF-IDF scores: 2.9958784155050977\n",
      "Length of sentence (number of words): 9\n",
      "Average TF-IDF score: 0.3328753795005664\n",
      "--------------------------------\n",
      "- Sentence 12\n",
      "Sum of sentence TF-IDF scores: 3.4589033343682445\n",
      "Length of sentence (number of words): 12\n",
      "Average TF-IDF score: 0.288241944530687\n",
      "--------------------------------\n",
      "- Sentence 13\n",
      "Sum of sentence TF-IDF scores: 3.1213338090435383\n",
      "Length of sentence (number of words): 10\n",
      "Average TF-IDF score: 0.31213338090435383\n",
      "--------------------------------\n",
      "- Sentence 14\n",
      "Sum of sentence TF-IDF scores: 1.4111987558284032\n",
      "Length of sentence (number of words): 2\n",
      "Average TF-IDF score: 0.7055993779142016\n",
      "--------------------------------\n",
      "- Sentence 15\n",
      "Sum of sentence TF-IDF scores: 3.416590136044551\n",
      "Length of sentence (number of words): 13\n",
      "Average TF-IDF score: 0.2628146258495808\n",
      "--------------------------------\n",
      "- Sentence 16\n",
      "Sum of sentence TF-IDF scores: 3.6800934539575607\n",
      "Length of sentence (number of words): 14\n",
      "Average TF-IDF score: 0.2628638181398258\n",
      "--------------------------------\n",
      "- Sentence 17\n",
      "Sum of sentence TF-IDF scores: 4.506280995327162\n",
      "Length of sentence (number of words): 21\n",
      "Average TF-IDF score: 0.21458480930129345\n",
      "--------------------------------\n",
      "- Sentence 18\n",
      "Sum of sentence TF-IDF scores: 2.9945526219664984\n",
      "Length of sentence (number of words): 9\n",
      "Average TF-IDF score: 0.3327280691073887\n",
      "--------------------------------\n",
      "- Sentence 19\n",
      "Sum of sentence TF-IDF scores: 2.8284271247461903\n",
      "Length of sentence (number of words): 8\n",
      "Average TF-IDF score: 0.3535533905932738\n",
      "--------------------------------\n",
      "All average scores: [np.float64(0.2398495018318553), np.float64(0.22144860766697785), np.float64(0.26513629570748787), np.float64(0.3518028290860464), np.float64(0.2760160901643915), np.float64(0.4038290856123356), np.float64(0.3773416499528918), np.float64(0.2031306837901915), np.float64(0.2769579283217968), np.float64(0.24836618712842823), np.float64(0.3328753795005664), np.float64(0.288241944530687), np.float64(0.31213338090435383), np.float64(0.7055993779142016), np.float64(0.2628146258495808), np.float64(0.2628638181398258), np.float64(0.21458480930129345), np.float64(0.3327280691073887), np.float64(0.3535533905932738)]\n"
     ]
    }
   ],
   "source": [
    "sent_index = 0\n",
    "sent_scores = []   # list để chứa avg_score\n",
    "\n",
    "for i in features:\n",
    "    print(f\"- Sentence {sent_index + 1}\")\n",
    "\n",
    "    total_score = i.sum()              # tổng TF-IDF\n",
    "    sent_length = len(i.data)          # số từ\n",
    "    avg_score = total_score / sent_length if sent_length > 0 else 0\n",
    "\n",
    "    print(f\"Sum of sentence TF-IDF scores: {total_score}\")\n",
    "    print(f\"Length of sentence (number of words): {sent_length}\")\n",
    "    print(f\"Average TF-IDF score: {avg_score}\")\n",
    "    print(\"--------------------------------\")\n",
    "\n",
    "    sent_scores.append(avg_score)      # thêm avg_score vào list\n",
    "    sent_index += 1\n",
    "\n",
    "print(\"All average scores:\", sent_scores)\n"
   ]
  },
  {
   "cell_type": "code",
   "execution_count": 27,
   "id": "b6aae43c",
   "metadata": {},
   "outputs": [
    {
     "data": {
      "text/plain": [
       "19"
      ]
     },
     "execution_count": 27,
     "metadata": {},
     "output_type": "execute_result"
    }
   ],
   "source": [
    "len(sent_scores)"
   ]
  },
  {
   "cell_type": "code",
   "execution_count": 28,
   "id": "5e6ec5ef",
   "metadata": {},
   "outputs": [
    {
     "data": {
      "text/plain": [
       "19"
      ]
     },
     "execution_count": 28,
     "metadata": {},
     "output_type": "execute_result"
    }
   ],
   "source": [
    "len(sent_token)"
   ]
  },
  {
   "cell_type": "code",
   "execution_count": 30,
   "id": "055186e1",
   "metadata": {},
   "outputs": [
    {
     "data": {
      "text/plain": [
       "np.float64(0.3120670344791355)"
      ]
     },
     "execution_count": 30,
     "metadata": {},
     "output_type": "execute_result"
    }
   ],
   "source": [
    "threhold = sum(sent_scores) / len(sent_scores) # Average of Sentence Scores\n",
    "threhold"
   ]
  },
  {
   "cell_type": "code",
   "execution_count": 35,
   "id": "c2e9d820",
   "metadata": {},
   "outputs": [
    {
     "name": "stdout",
     "output_type": "stream",
     "text": [
      "-  “We’ve shown over the past 12 months we are the best team in the world.\n",
      "-  “To win these five trophies – for me, the five biggest prizes available to us – is incredible.\n",
      "-  I am so proud to have been a part of this and I can honestly say it’s an honour to play alongside these players.\n",
      "-  Foden then got on the scoresheet himself in the 72nd minute after a prodding home from close range.\n",
      "-  City’s defence was largely untested for during the game, underlining the team’s dominance during this unforgettable year.\n",
      "-  “As a manager it is what I am most proud of; that we are always there.\n",
      "-  The champion heads back to England where it faces a tough title defence in the Premier League.\n",
      "-  It currently sits fourth in the table and will face Everton in its next fixture on Wednesday.\n",
      "Selected sentences: ['“We’ve shown over the past 12 months we are the best team in the world.', '“To win these five trophies – for me, the five biggest prizes available to us – is incredible.', 'I am so proud to have been a part of this and I can honestly say it’s an honour to play alongside these players.', 'Foden then got on the scoresheet himself in the 72nd minute after a prodding home from close range.', 'City’s defence was largely untested for during the game, underlining the team’s dominance during this unforgettable year.', '“As a manager it is what I am most proud of; that we are always there.', 'The champion heads back to England where it faces a tough title defence in the Premier League.', 'It currently sits fourth in the table and will face Everton in its next fixture on Wednesday.']\n"
     ]
    }
   ],
   "source": [
    "final_sum = []\n",
    "\n",
    "for index, data in enumerate(sent_scores):\n",
    "    if (data >= (threhold)):\n",
    "        final_sum.append(sent_token[index])   # thêm câu vào list\n",
    "        print(\"- \", sent_token[index])\n",
    "\n",
    "print(\"Selected sentences:\", final_sum)\n"
   ]
  },
  {
   "cell_type": "code",
   "execution_count": 36,
   "id": "55cd79b8",
   "metadata": {},
   "outputs": [
    {
     "data": {
      "text/plain": [
       "['“We’ve shown over the past 12 months we are the best team in the world.',\n",
       " '“To win these five trophies – for me, the five biggest prizes available to us – is incredible.',\n",
       " 'I am so proud to have been a part of this and I can honestly say it’s an honour to play alongside these players.',\n",
       " 'Foden then got on the scoresheet himself in the 72nd minute after a prodding home from close range.',\n",
       " 'City’s defence was largely untested for during the game, underlining the team’s dominance during this unforgettable year.',\n",
       " '“As a manager it is what I am most proud of; that we are always there.',\n",
       " 'The champion heads back to England where it faces a tough title defence in the Premier League.',\n",
       " 'It currently sits fourth in the table and will face Everton in its next fixture on Wednesday.']"
      ]
     },
     "execution_count": 36,
     "metadata": {},
     "output_type": "execute_result"
    }
   ],
   "source": [
    "final_sum"
   ]
  },
  {
   "cell_type": "code",
   "execution_count": 41,
   "id": "64387312",
   "metadata": {},
   "outputs": [
    {
     "name": "stderr",
     "output_type": "stream",
     "text": [
      "[nltk_data] Downloading package punkt to /Users/huong/nltk_data...\n",
      "[nltk_data]   Package punkt is already up-to-date!\n",
      "[nltk_data] Downloading package punkt_tab to /Users/huong/nltk_data...\n",
      "[nltk_data]   Package punkt_tab is already up-to-date!\n"
     ]
    }
   ],
   "source": [
    "import nltk\n",
    "from nltk.tokenize import sent_tokenize\n",
    "nltk.download(\"punkt\")\n",
    "nltk.download(\"punkt_tab\")\n",
    "\n",
    "from sentence_transformers import SentenceTransformer, util\n",
    "import numpy as np\n"
   ]
  },
  {
   "cell_type": "code",
   "execution_count": 45,
   "id": "2612e5aa",
   "metadata": {},
   "outputs": [
    {
     "name": "stdout",
     "output_type": "stream",
     "text": [
      "=== Semantic Summary ===\n",
      " Manchester City capped off its incredible year with yet another trophy, dismantling Fluminense 4-0 to win the Club World Cup on Friday. “To win the Treble was truly special, but to win two more trophies and now hold these five major titles shows the unique mentality of this team, of the Club and its fans. “It is something no other English team has ever achieved, and we will always remember this incredible time we spent together.”\n",
      "The game ended in some unsavoury scenes as a scuffle broke out between players on the pitch after the final whistle, but the game will be remembered as yet another successful night for City.\n"
     ]
    }
   ],
   "source": [
    "# Load pre-trained model (nhẹ, nhanh, đa dụng)\n",
    "model = SentenceTransformer(\"all-MiniLM-L6-v2\")\n",
    "\n",
    "def summarize_semantic(text, top_k=3):\n",
    "    # 1. Split sentences\n",
    "    sentences = sent_tokenize(text)\n",
    "    if not sentences:\n",
    "\n",
    "        return \"\"\n",
    "    \n",
    "    # 2. Encode sentences\n",
    "    embeddings = model.encode(sentences, convert_to_tensor=True)\n",
    "    \n",
    "    # 3. Compute centroid (mean vector)\n",
    "    centroid = embeddings.mean(dim=0)\n",
    "    \n",
    "    # 4. Similarity between each sentence and centroid\n",
    "    sims = util.cos_sim(embeddings, centroid).cpu().flatten().tolist()\n",
    "    sims = np.array(sims)\n",
    "    \n",
    "    # 5. Pick top_k sentences (highest similarity)\n",
    "    top_idx = np.argsort(sims)[-top_k:]  # top_k indices\n",
    "    top_idx = sorted(top_idx.tolist())   # sort by original order\n",
    "    \n",
    "    # 6. Build summary\n",
    "    summary = \" \".join([sentences[i] for i in top_idx])\n",
    "    return summary\n",
    "\n",
    "# ----------------------\n",
    "# Demo với bài báo Manchester City\n",
    "# ----------------------\n",
    "text = \"\"\"\n",
    "    Manchester City makes history by winning Club World Cup.\n",
    "Manchester City capped off its incredible year with yet another trophy, dismantling Fluminense 4-0 to win the Club World Cup on Friday.\n",
    "Having already won the Premier League, Champions League, FA Cup and Super Cup, Pep Guardiola’s side now boasts five trophies this calendar year, becoming the first English club to ever hold all those titles simultaneously.\n",
    "The final piece of the jigsaw came on a highly charged night in Saudi Arabia as Manchester City outclassed its Brazilian opponents.\n",
    "“We’ve shown over the past 12 months we are the best team in the world. Our results prove that and the consistency we have managed has been amazing,” club captain Kyle Walker said after the game, per Sky Sports.\n",
    "“To win these five trophies – for me, the five biggest prizes available to us – is incredible. I am so proud to have been a part of this and I can honestly say it’s an honour to play alongside these players. I couldn’t ask for better teammates.”\n",
    "It took just 40 seconds for Manchester City to take the lead\n",
    "Brazilian left-back Marcelo miscued a pass in the opening exchanges which let Nathan Aké free to shoot from distance. The defender’s effort cannoned back off the post but forward Julián Álvarez was in the right place to turn the rebound into the net with his chest.\n",
    "City continued to look dangerous and doubled its lead before the break after Phil Foden’s attempted cross was deflected into his own net by Fluminense defender Nino.\n",
    "Foden then got on the scoresheet himself in the 72nd minute after a prodding home from close range.\n",
    "The rout was completed in the 88th minute when Álvarez capped off a brilliant performance with a clinical finish into the far corner.\n",
    "City’s defence was largely untested for during the game, underlining the team’s dominance during this unforgettable year.\n",
    "“As a manager it is what I am most proud of; that we are always there. No matter how much we win, no matter what trophies we lift, we are there again to fight for the next one,” City boss Guardiola said after the match, according to Sky Sports.\n",
    "“To win the Treble was truly special, but to win two more trophies and now hold these five major titles shows the unique mentality of this team, of the Club and its fans.\n",
    "“It is something no other English team has ever achieved, and we will always remember this incredible time we spent together.”\n",
    "The game ended in some unsavoury scenes as a scuffle broke out between players on the pitch after the final whistle, but the game will be remembered as yet another successful night for City.\n",
    "The champion heads back to England where it faces a tough title defence in the Premier League.\n",
    "It currently sits fourth in the table and will face Everton in its next fixture on Wednesday.\n",
    "\"\"\"\n",
    "\n",
    "summary = summarize_semantic(text, top_k=3)\n",
    "print(\"=== Semantic Summary ===\\n\", summary)\n"
   ]
  },
  {
   "cell_type": "code",
   "execution_count": null,
   "id": "ec8cf426",
   "metadata": {},
   "outputs": [],
   "source": []
  }
 ],
 "metadata": {
  "kernelspec": {
   "display_name": "venv",
   "language": "python",
   "name": "python3"
  },
  "language_info": {
   "codemirror_mode": {
    "name": "ipython",
    "version": 3
   },
   "file_extension": ".py",
   "mimetype": "text/x-python",
   "name": "python",
   "nbconvert_exporter": "python",
   "pygments_lexer": "ipython3",
   "version": "3.12.11"
  }
 },
 "nbformat": 4,
 "nbformat_minor": 5
}
